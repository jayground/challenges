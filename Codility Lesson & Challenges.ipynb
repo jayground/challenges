{
 "cells": [
  {
   "cell_type": "code",
   "execution_count": 21,
   "metadata": {},
   "outputs": [
    {
     "name": "stdout",
     "output_type": "stream",
     "text": [
      "0b1111\n",
      "the longest binary gap :  0\n"
     ]
    }
   ],
   "source": [
    "# Lesson 1\n",
    "def solution(n):\n",
    "    number = 0\n",
    "    max_num = 0\n",
    "    count_flag = False\n",
    "    print(bin(n))\n",
    "    \n",
    "    for i in bin(n)[2:]:\n",
    "        if i is '1':\n",
    "            if number > max_num:\n",
    "                max_num = number\n",
    "                number = 0\n",
    "            else:\n",
    "                number = 0\n",
    "        else:\n",
    "            number += 1\n",
    "    \n",
    "    return max_num\n",
    "\n",
    "print(\"the longest binary gap : \", solution(15))"
   ]
  },
  {
   "cell_type": "code",
   "execution_count": 46,
   "metadata": {},
   "outputs": [
    {
     "name": "stdout",
     "output_type": "stream",
     "text": [
      "7\n",
      "7\n"
     ]
    }
   ],
   "source": [
    "# Lesson 2-1\n",
    "# expected worst-case time complexity is O(N)\n",
    "# expected worst-case space complexity is O(1)\n",
    "def solution(A):\n",
    "    number = set(A)\n",
    "    for item in number:\n",
    "        repeated = A.count(item)\n",
    "        if repeated % 2 is 1:\n",
    "            return item\n",
    "    \n",
    "    return -1\n",
    "    \n",
    "print(solution([9, 3, 9, 3, 9, 7, 9]))\n",
    "# Task score: 66%\n",
    "# Correctness : 100%\n",
    "# Performance : 25%\n",
    "# medium2, big1, big2 Timeout error\n",
    "# detected time complexity : O(N**2)\n",
    "\n",
    "# second try\n",
    "def solution(A):\n",
    "    answer = {}\n",
    "    \n",
    "    while len(A) > 0:\n",
    "        item = A.pop()\n",
    "        if item in answer:\n",
    "            del answer[item]\n",
    "        else:\n",
    "            answer[item] = True\n",
    "    \n",
    "    answer = list(answer.keys())[0]\n",
    "    \n",
    "    return answer\n",
    "# Performance : 100%\n",
    "# Detected time complexity : O(N) or O(N*log(N))\n",
    "\n",
    "print(solution([9, 3, 9, 3, 9, 7, 9]))"
   ]
  },
  {
   "cell_type": "code",
   "execution_count": 29,
   "metadata": {},
   "outputs": [
    {
     "name": "stdout",
     "output_type": "stream",
     "text": [
      "[9, 7, 6, 3, 8]\n",
      "[9, 7, 6, 3, 8]\n"
     ]
    }
   ],
   "source": [
    "# Lesson 2-2\n",
    "# Performance doesn't matter\n",
    "def solution(A, K):\n",
    "    for _ in range(0, K):\n",
    "        last_element = A.pop()\n",
    "        A.insert(0, last_element)\n",
    "\n",
    "    return A\n",
    "\n",
    "print(solution([3,8,9,7,6], 3))\n",
    "# Task score: 88%\n",
    "# runtime error when A is empty list\n",
    "\n",
    "# second try\n",
    "def solution(A, K):\n",
    "    if len(A) is not 0:\n",
    "        for _ in range(0, K):\n",
    "            last_element = A.pop()\n",
    "            A.insert(0, last_element)\n",
    "\n",
    "        return A\n",
    "\n",
    "print(solution([3,8,9,7,6], 3))\n",
    "# Task score: 100%"
   ]
  },
  {
   "cell_type": "code",
   "execution_count": null,
   "metadata": {},
   "outputs": [],
   "source": []
  }
 ],
 "metadata": {
  "kernelspec": {
   "display_name": "Python 3",
   "language": "python",
   "name": "python3"
  },
  "language_info": {
   "codemirror_mode": {
    "name": "ipython",
    "version": 3
   },
   "file_extension": ".py",
   "mimetype": "text/x-python",
   "name": "python",
   "nbconvert_exporter": "python",
   "pygments_lexer": "ipython3",
   "version": "3.6.4"
  }
 },
 "nbformat": 4,
 "nbformat_minor": 2
}
