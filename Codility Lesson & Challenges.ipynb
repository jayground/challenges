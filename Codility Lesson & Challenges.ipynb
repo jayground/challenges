{
 "cells": [
  {
   "cell_type": "code",
   "execution_count": 21,
   "metadata": {},
   "outputs": [
    {
     "name": "stdout",
     "output_type": "stream",
     "text": [
      "0b1111\n",
      "the longest binary gap :  0\n"
     ]
    }
   ],
   "source": [
    "# Lesson 1\n",
    "def solution(n):\n",
    "    number = 0\n",
    "    max_num = 0\n",
    "    count_flag = False\n",
    "    print(bin(n))\n",
    "    \n",
    "    for i in bin(n)[2:]:\n",
    "        if i is '1':\n",
    "            if number > max_num:\n",
    "                max_num = number\n",
    "                number = 0\n",
    "            else:\n",
    "                number = 0\n",
    "        else:\n",
    "            number += 1\n",
    "    \n",
    "    return max_num\n",
    "\n",
    "print(\"the longest binary gap : \", solution(15))"
   ]
  },
  {
   "cell_type": "code",
   "execution_count": 46,
   "metadata": {},
   "outputs": [
    {
     "name": "stdout",
     "output_type": "stream",
     "text": [
      "7\n",
      "7\n"
     ]
    }
   ],
   "source": [
    "# Lesson 2-1\n",
    "# expected worst-case time complexity is O(N)\n",
    "# expected worst-case space complexity is O(1)\n",
    "def solution(A):\n",
    "    number = set(A)\n",
    "    for item in number:\n",
    "        repeated = A.count(item)\n",
    "        if repeated % 2 is 1:\n",
    "            return item\n",
    "    \n",
    "    return -1\n",
    "    \n",
    "print(solution([9, 3, 9, 3, 9, 7, 9]))\n",
    "# Task score: 66%\n",
    "# Correctness : 100%\n",
    "# Performance : 25%\n",
    "# medium2, big1, big2 Timeout error\n",
    "# detected time complexity : O(N**2)\n",
    "\n",
    "# second try\n",
    "def solution(A):\n",
    "    answer = {}\n",
    "    \n",
    "    while len(A) > 0:\n",
    "        item = A.pop()\n",
    "        if item in answer:\n",
    "            del answer[item]\n",
    "        else:\n",
    "            answer[item] = True\n",
    "    \n",
    "    answer = list(answer.keys())[0]\n",
    "    \n",
    "    return answer\n",
    "# Performance : 100%\n",
    "# Detected time complexity : O(N) or O(N*log(N))\n",
    "\n",
    "print(solution([9, 3, 9, 3, 9, 7, 9]))"
   ]
  },
  {
   "cell_type": "code",
   "execution_count": 29,
   "metadata": {},
   "outputs": [
    {
     "name": "stdout",
     "output_type": "stream",
     "text": [
      "[9, 7, 6, 3, 8]\n",
      "[9, 7, 6, 3, 8]\n"
     ]
    }
   ],
   "source": [
    "# Lesson 2-2\n",
    "# Performance doesn't matter\n",
    "def solution(A, K):\n",
    "    for _ in range(0, K):\n",
    "        last_element = A.pop()\n",
    "        A.insert(0, last_element)\n",
    "\n",
    "    return A\n",
    "\n",
    "print(solution([3,8,9,7,6], 3))\n",
    "# Task score: 88%\n",
    "# runtime error when A is empty list\n",
    "\n",
    "# second try\n",
    "def solution(A, K):\n",
    "    if len(A) is not 0:\n",
    "        for _ in range(0, K):\n",
    "            last_element = A.pop()\n",
    "            A.insert(0, last_element)\n",
    "\n",
    "        return A\n",
    "\n",
    "print(solution([3,8,9,7,6], 3))\n",
    "# Task score: 100%"
   ]
  },
  {
   "cell_type": "code",
   "execution_count": 3,
   "metadata": {},
   "outputs": [
    {
     "name": "stdout",
     "output_type": "stream",
     "text": [
      "1\n",
      "Fail point:  0\n",
      "1\n",
      "Correct Answer:  2000\n"
     ]
    }
   ],
   "source": [
    "# Lesson 3-1\n",
    "# time complxesity : N(O)\n",
    "# space complexity : N(N)\n",
    "def solution(A):\n",
    "    left = 0\n",
    "    right = sum(A)\n",
    "    minNum = abs(left - right)\n",
    "        \n",
    "    for i in range(0, len(A)):\n",
    "        left += A[i]\n",
    "        right -= A[i]\n",
    "        num = abs(left - right)\n",
    "        \n",
    "        if num < minNum:\n",
    "            minNum = num\n",
    "            answer = i\n",
    "\n",
    "    return minNum\n",
    "\n",
    "print(solution([3,1,2,4,3]))\n",
    "print(\"Fail point: \", solution([-1000,1000]))\n",
    "# Task score : 83%\n",
    "# double, small error\n",
    "\n",
    "# second try\n",
    "def solution(A):\n",
    "    left = 0\n",
    "    right = sum(A)\n",
    "    minNum = 0\n",
    "        \n",
    "    for i in range(0, len(A) - 1):\n",
    "        left += A[i]\n",
    "        right -= A[i]\n",
    "        num = abs(left - right)\n",
    "        \n",
    "        if num < minNum or i is 0:\n",
    "            minNum = num\n",
    "\n",
    "    return minNum\n",
    "\n",
    "print(solution([3,1,2,4,3]))\n",
    "print(\"Correct Answer: \", solution([-1000,1000]))\n",
    "# Task score : 100%"
   ]
  },
  {
   "cell_type": "code",
   "execution_count": 4,
   "metadata": {},
   "outputs": [
    {
     "name": "stdout",
     "output_type": "stream",
     "text": [
      "3\n"
     ]
    }
   ],
   "source": [
    "# Lesson 3-2\n",
    "from math import ceil\n",
    "\n",
    "def solution(X, Y, D):\n",
    "    return ceil((Y-X)/D)\n",
    "\n",
    "print(solution(10,85,30))\n",
    "# Task score : 100%"
   ]
  },
  {
   "cell_type": "code",
   "execution_count": 5,
   "metadata": {},
   "outputs": [
    {
     "name": "stdout",
     "output_type": "stream",
     "text": [
      "9\n"
     ]
    }
   ],
   "source": [
    "# Lesson 3-3\n",
    "def solution(A):\n",
    "    n = len(A) + 1\n",
    "    missingOne = int(n*(n+1)/2 - sum(A))\n",
    "\n",
    "    return missingOne\n",
    "\n",
    "print(solution([2,3,1,4,6,7,8,5,10]))\n",
    "# Task score : 100%"
   ]
  },
  {
   "cell_type": "code",
   "execution_count": 6,
   "metadata": {},
   "outputs": [
    {
     "name": "stdout",
     "output_type": "stream",
     "text": [
      "0\n",
      "1\n",
      "0\n"
     ]
    }
   ],
   "source": [
    "# Lesson 4-1\n",
    "def solution(A):\n",
    "    lenA = len(A)\n",
    "    repeatArr = [0] * len(A)\n",
    "\n",
    "    for element in A:\n",
    "        if element <= lenA: # pitfall\n",
    "            repeatArr[element-1] += 1\n",
    "\n",
    "    return int(min(repeatArr) is not 0)\n",
    "\n",
    "test = [ x for x in range(100000) ]\n",
    "# element of Array can be 1,000,000,000\n",
    "test[3] = 1000000000 \n",
    "\n",
    "print(solution(test))\n",
    "print(solution([4,1,3,2]))\n",
    "print(solution([4,1,3]))\n",
    "# Task score : 100%"
   ]
  },
  {
   "cell_type": "code",
   "execution_count": 10,
   "metadata": {},
   "outputs": [
    {
     "name": "stdout",
     "output_type": "stream",
     "text": [
      "6 should be 6\n",
      "-1 should be -1\n",
      "99999 should be 99999\n"
     ]
    }
   ],
   "source": [
    "# Lesson 4-2\n",
    "import unittest\n",
    "\n",
    "def solution(X, A):\n",
    "    setContainer = set()\n",
    "    \n",
    "    for idx, element in enumerate(A):\n",
    "        \n",
    "        if element <= X:\n",
    "            setContainer.add(element)\n",
    "                \n",
    "        if len(setContainer) == X:\n",
    "            return idx\n",
    "        \n",
    "    return -1\n",
    "\n",
    "testArray = [x for x in range(1, 1000001)]\n",
    "testArray2 = [x for x in range(1, 1000001)]\n",
    "testArray[3] = 100000\n",
    "\n",
    "print('{0} should be {1}'.format(solution(5, [1,3,1,4,2,3,5,4]), 6))\n",
    "print('{0} should be {1}'.format(solution(100000, testArray), -1))\n",
    "print('{0} should be {1}'.format(solution(100000, testArray2), 99999))\n",
    "# Task score : 100%"
   ]
  },
  {
   "cell_type": "code",
   "execution_count": null,
   "metadata": {
    "collapsed": true
   },
   "outputs": [],
   "source": []
  }
 ],
 "metadata": {
  "kernelspec": {
   "display_name": "Python 3",
   "language": "python",
   "name": "python3"
  },
  "language_info": {
   "codemirror_mode": {
    "name": "ipython",
    "version": 3
   },
   "file_extension": ".py",
   "mimetype": "text/x-python",
   "name": "python",
   "nbconvert_exporter": "python",
   "pygments_lexer": "ipython3",
   "version": "3.6.3"
  }
 },
 "nbformat": 4,
 "nbformat_minor": 2
}
