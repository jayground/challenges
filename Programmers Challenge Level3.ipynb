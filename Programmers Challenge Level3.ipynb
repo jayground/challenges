{
 "cells": [
  {
   "cell_type": "code",
   "execution_count": 1,
   "metadata": {},
   "outputs": [
    {
     "name": "stdout",
     "output_type": "stream",
     "text": [
      "s는 \"a B z\", n은 4인 경우: e F d\n"
     ]
    }
   ],
   "source": [
    "def caesar(s, n):\n",
    "    alphabet = 'abcdefghijklmnopqrstuvwxyz'\n",
    "    result = \"\"\n",
    "    \n",
    "    for letter in s:\n",
    "        is_upper = letter.isupper()\n",
    "        letter_lower = letter.lower()\n",
    "        \n",
    "        if letter_lower in alphabet:\n",
    "            pivot = alphabet.index(letter_lower)\n",
    "            offset = (pivot + n) % len(alphabet)\n",
    "            encrypted_letter = alphabet[offset]\n",
    "            if is_upper:\n",
    "                encrypted_letter = encrypted_letter.upper()\n",
    "            result += encrypted_letter\n",
    "        else:\n",
    "            result += letter\n",
    "    \n",
    "    return result\n",
    "    \n",
    "print('s는 \"a B z\", n은 4인 경우: ' + caesar(\"a B z\", 4))"
   ]
  },
  {
   "cell_type": "code",
   "execution_count": 2,
   "metadata": {},
   "outputs": [
    {
     "name": "stdout",
     "output_type": "stream",
     "text": [
      "[2, 2, 2]\n"
     ]
    },
    {
     "data": {
      "text/plain": [
       "12"
      ]
     },
     "execution_count": 2,
     "metadata": {},
     "output_type": "execute_result"
    }
   ],
   "source": [
    "def noOvertime(n, works):\n",
    "        \n",
    "    for idx in range(0, n):\n",
    "        priority = max(works)\n",
    "        works[works.index(priority)] -= 1\n",
    "    \n",
    "    print(works)\n",
    "    result = sum([x**2 for x in works])\n",
    "    return result\n",
    "    \n",
    "noOvertime(4, [4,3,3])"
   ]
  },
  {
   "cell_type": "code",
   "execution_count": 57,
   "metadata": {},
   "outputs": [
    {
     "name": "stdout",
     "output_type": "stream",
     "text": [
      "168\n",
      "168\n"
     ]
    }
   ],
   "source": [
    "# improvements are needed for increased performance\n",
    "# O notation : O(...)\n",
    "# My solution\n",
    "def nlcm(num):\n",
    "    biggest = max(num)\n",
    "    while True:\n",
    "        is_zero_list = [biggest % x == 0 for x in num]\n",
    "        if False in is_zero_list:\n",
    "            biggest += 1\n",
    "        else:\n",
    "            break\n",
    "            \n",
    "    return biggest\n",
    "\n",
    "print(nlcm([2,6,8,14]))\n",
    "\n",
    "# Using Euclidean Algorithm\n",
    "from functools import reduce\n",
    "\n",
    "def gcd(a, b): # Greatest Common Divisor\n",
    "    while b:\n",
    "        a, b = b, a % b\n",
    "    return a\n",
    "\n",
    "def lcm(a, b): # Least Common Multiple\n",
    "    return a * b // gcd(a, b)\n",
    "\n",
    "def nlcm(list_value):\n",
    "    return reduce(lcm, list_value)\n",
    "\n",
    "print(nlcm([2, 6, 8, 14]))"
   ]
  },
  {
   "cell_type": "code",
   "execution_count": 60,
   "metadata": {},
   "outputs": [
    {
     "name": "stdout",
     "output_type": "stream",
     "text": [
      "loop count :  19\n",
      "answer :  1048576\n",
      "loop count :  524288\n",
      "answer :  1048576\n"
     ]
    }
   ],
   "source": [
    "# my solution.\n",
    "def nextBigNumber(n):\n",
    "    number = n\n",
    "    countBinary = bin(number)[2:].count('1')\n",
    "    pivot = 0\n",
    "    loopCount = 0\n",
    "    while n % 2 == 0 :\n",
    "        quotient, remainder = divmod(n, 2)\n",
    "        pivot += 1\n",
    "        n = quotient\n",
    "        loopCount += 1\n",
    "    \n",
    "    number = number + 2**pivot\n",
    "    offset = countBinary - bin(number)[2:].count('1')\n",
    "    \n",
    "    for i in range(0, offset):\n",
    "        number += 2**i\n",
    "        loopCount += 1\n",
    "    \n",
    "    print(\"loop count : \", loopCount)\n",
    "    return number\n",
    "\n",
    "print(\"answer : \", nextBigNumber(524288))\n",
    "\n",
    "# someone solved it in a much simpler way\n",
    "# It is a simpler way but you have to iterate much more to find the answer in some situations\n",
    "# Can I say my solution is better in respect to performance?\n",
    "def nextBigNumber(n):\n",
    "    num1 = bin(n).count('1')\n",
    "    loopCount = 0\n",
    "    while True:\n",
    "        n = n + 1\n",
    "        loopCount += 1\n",
    "        if num1 == bin(n).count('1'):\n",
    "            break\n",
    "    print(\"loop count : \", loopCount)\n",
    "    return n\n",
    "\n",
    "print(\"answer : \", nextBigNumber(524288))"
   ]
  },
  {
   "cell_type": "code",
   "execution_count": 50,
   "metadata": {},
   "outputs": [
    {
     "name": "stdout",
     "output_type": "stream",
     "text": [
      "answer :  610\n",
      "answer :  610\n"
     ]
    }
   ],
   "source": [
    "# My solution\n",
    "from math import factorial\n",
    "\n",
    "def jumpCase(num):\n",
    "    answer = 0\n",
    "    start = int(num/2)\n",
    "    end = num\n",
    "    numberForAll = 1\n",
    "    numberOfOne = start\n",
    "    \n",
    "    if num % 2 == 1:\n",
    "        start = int((num+1)/2)\n",
    "        numberOfOne = start - 1\n",
    "        \n",
    "    for i in range(start, end):\n",
    "        answer += factorial(i) / (factorial(i - numberOfOne) * factorial(numberOfOne))\n",
    "        numberOfOne -= 1\n",
    "            \n",
    "    return int(answer + numberForAll)\n",
    "\n",
    "print(\"answer : \", jumpCase(14))\n",
    "\n",
    "# There was a much simpler solution than mine.\n",
    "def jumpCase(num):\n",
    "    a, b = 1, 2\n",
    "    for i in range(2,num):\n",
    "        a, b = b, a+b\n",
    "    return b\n",
    "\n",
    "print(\"answer : \", jumpCase(14))"
   ]
  }
 ],
 "metadata": {
  "kernelspec": {
   "display_name": "Python 3",
   "language": "python",
   "name": "python3"
  },
  "language_info": {
   "codemirror_mode": {
    "name": "ipython",
    "version": 3
   },
   "file_extension": ".py",
   "mimetype": "text/x-python",
   "name": "python",
   "nbconvert_exporter": "python",
   "pygments_lexer": "ipython3",
   "version": "3.6.4"
  }
 },
 "nbformat": 4,
 "nbformat_minor": 2
}
